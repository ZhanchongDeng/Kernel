{
 "cells": [
  {
   "cell_type": "markdown",
   "metadata": {},
   "source": [
    "# PA4 - String Kernals "
   ]
  },
  {
   "cell_type": "markdown",
   "metadata": {},
   "source": [
    "Zhanchong Deng  \n",
    "A15491777"
   ]
  },
  {
   "cell_type": "markdown",
   "metadata": {},
   "source": [
    "### Necessary Imports"
   ]
  },
  {
   "cell_type": "code",
   "execution_count": 1,
   "metadata": {},
   "outputs": [],
   "source": [
    "%load_ext autoreload\n",
    "%autoreload 2\n",
    "import numpy as np\n",
    "import pandas as pd\n",
    "import kernel as pa4"
   ]
  },
  {
   "cell_type": "markdown",
   "metadata": {},
   "source": [
    "Loading Data in"
   ]
  },
  {
   "cell_type": "code",
   "execution_count": 2,
   "metadata": {},
   "outputs": [],
   "source": [
    "training = pa4.loadData('data/pa4train.txt')\n",
    "testing = pa4.loadData('data/pa4test.txt')"
   ]
  },
  {
   "cell_type": "markdown",
   "metadata": {},
   "source": [
    "Parse them into DataFrames"
   ]
  },
  {
   "cell_type": "code",
   "execution_count": 3,
   "metadata": {},
   "outputs": [],
   "source": [
    "training = np.array(pd.DataFrame(training).astype({0:str, 1:int}))\n",
    "testing = np.array(pd.DataFrame(testing).astype({0:str, 1:int}))"
   ]
  },
  {
   "cell_type": "markdown",
   "metadata": {},
   "source": [
    "___"
   ]
  },
  {
   "cell_type": "markdown",
   "metadata": {},
   "source": [
    "### Disclaimer: only train if there is something wrong with original algorithm. Training takes very long  "
   ]
  },
  {
   "cell_type": "markdown",
   "metadata": {},
   "source": [
    "Save each p in **saved/delta_idx_.csv** to avoid long training time."
   ]
  },
  {
   "cell_type": "code",
   "execution_count": 38,
   "metadata": {},
   "outputs": [
    {
     "name": "stdout",
     "output_type": "stream",
     "text": [
      "Half way done\n",
      "All done\n",
      "Half way done\n",
      "All done\n"
     ]
    }
   ],
   "source": [
    "for length in [3,4,5]:\n",
    "    p = pa4.Perceptron()\n",
    "    p.fit(training, length)\n",
    "    pd.DataFrame(p.delta, columns=['x','y']).to_csv(\"saved/delta\"+ str(length) + \".csv\")"
   ]
  },
  {
   "cell_type": "markdown",
   "metadata": {},
   "source": [
    "___"
   ]
  },
  {
   "cell_type": "markdown",
   "metadata": {},
   "source": [
    "### 1) Training/Testing Error for each p with k(s,t) = #occurances in s * #occurances in t"
   ]
  },
  {
   "cell_type": "code",
   "execution_count": 44,
   "metadata": {
    "scrolled": false
   },
   "outputs": [
    {
     "name": "stdout",
     "output_type": "stream",
     "text": [
      "Training Error for (p=3 )is: 0.011846\n",
      "Testing Error for (p=3 )is: 0.052770\n",
      "Training Error for (p=4 )is: 0.007163\n",
      "Testing Error for (p=3 )is: 0.027704\n",
      "Training Error for (p=5 )is: 0.003581\n",
      "Testing Error for (p=5 )is: 0.030343\n"
     ]
    }
   ],
   "source": [
    "for length in [3,4,5]:\n",
    "    p.delta = np.array(pd.read_csv(filepath_or_buffer=\"saved/delta\"+ str(length) + \".csv\", usecols=['x','y']))\n",
    "    p.p = length\n",
    "    print(\"Training Error for (p =\", length, \")is:\", p.error(training))\n",
    "    print(\"Testing Error for (p=\", length, \")is:\", p.error(testing))"
   ]
  },
  {
   "cell_type": "markdown",
   "metadata": {},
   "source": [
    "___"
   ]
  },
  {
   "cell_type": "markdown",
   "metadata": {},
   "source": [
    "Now train with second kernel function."
   ]
  },
  {
   "cell_type": "code",
   "execution_count": 7,
   "metadata": {
    "scrolled": false
   },
   "outputs": [
    {
     "name": "stdout",
     "output_type": "stream",
     "text": [
      "Half way done\n",
      "Half way done\n",
      "Half way done\n"
     ]
    }
   ],
   "source": [
    "for length in [3,4,5]:\n",
    "    p2 = pa4.Perceptron()\n",
    "    p2.fit(training, length)\n",
    "    pd.DataFrame(p2.delta_idx, columns=['delta_idx']).to_csv(\"saved2/delta_idx\"+ str(length) + \".csv\")"
   ]
  },
  {
   "cell_type": "markdown",
   "metadata": {},
   "source": [
    "___"
   ]
  },
  {
   "cell_type": "markdown",
   "metadata": {},
   "source": [
    "### 2) Training/Testing Error for each p with k(s,t) = #common words only"
   ]
  },
  {
   "cell_type": "code",
   "execution_count": 45,
   "metadata": {
    "scrolled": true
   },
   "outputs": [
    {
     "name": "stdout",
     "output_type": "stream",
     "text": [
      "Training Error for (p=3 )is: 0.012121\n",
      "Testing Error for (p=3 )is: 0.040897\n",
      "Training Error for (p=4 )is: 0.006612\n",
      "Testing Error for (p=3 )is: 0.025066\n",
      "Training Error for (p=5 )is: 0.003581\n",
      "Testing Error for (p=5 )is: 0.030343\n"
     ]
    }
   ],
   "source": [
    "for length in [3,4,5]:\n",
    "    p2.delta_idx = pd.read_csv(\"saved2/delta_idx\"+ str(length) + \".csv\")['delta_idx'].to_list()\n",
    "    p2.p = length\n",
    "    print(\"Training Error for (p =\", length, \")is:\", p2.error(training))\n",
    "    print(\"Testing Error for (p=\", length, \")is:\", p2.error(testing))"
   ]
  },
  {
   "cell_type": "markdown",
   "metadata": {},
   "source": [
    "___"
   ]
  },
  {
   "cell_type": "markdown",
   "metadata": {},
   "source": [
    "Extracting p=5 info"
   ]
  },
  {
   "cell_type": "code",
   "execution_count": 4,
   "metadata": {},
   "outputs": [],
   "source": [
    "df = pd.read_csv(filepath_or_buffer=\"saved/delta5.csv\", usecols=['x','y'])\n",
    "positives = np.array(df['x'][df['y']==1])\n",
    "negatives = np.array(df['x'][df['y']==-1])"
   ]
  },
  {
   "cell_type": "markdown",
   "metadata": {},
   "source": [
    "Record occurances of all substrings in w"
   ]
  },
  {
   "cell_type": "code",
   "execution_count": 5,
   "metadata": {},
   "outputs": [],
   "source": [
    "sub_strings = {}\n",
    "# Add positives\n",
    "for string in positives:\n",
    "    for i in range(len(string) - 5 + 1):\n",
    "        if string[i:i+5] in sub_strings.keys():\n",
    "            sub_strings[string[i:i+5]] += 1\n",
    "        else:\n",
    "            sub_strings[string[i:i+5]] = 1\n",
    "# Subtract negatives\n",
    "for string in negatives:\n",
    "    for i in range(len(string) - 5 + 1):\n",
    "        if string[i:i+5] in sub_strings.keys():\n",
    "            sub_strings[string[i:i+5]] -= 1\n",
    "        else:\n",
    "            sub_strings[string[i:i+5]] = -1"
   ]
  },
  {
   "cell_type": "code",
   "execution_count": 6,
   "metadata": {},
   "outputs": [],
   "source": [
    "counts = pd.DataFrame({'sub_string':pd.Series(list(sub_strings.keys())), 'count':pd.Series(list(sub_strings.values()))})"
   ]
  },
  {
   "cell_type": "markdown",
   "metadata": {},
   "source": [
    "### 3) Intepreting Classifier p = 5"
   ]
  },
  {
   "cell_type": "markdown",
   "metadata": {},
   "source": [
    "The two most positive sub_strings are:"
   ]
  },
  {
   "cell_type": "code",
   "execution_count": 14,
   "metadata": {
    "scrolled": false
   },
   "outputs": [
    {
     "data": {
      "text/html": [
       "<div>\n",
       "<style scoped>\n",
       "    .dataframe tbody tr th:only-of-type {\n",
       "        vertical-align: middle;\n",
       "    }\n",
       "\n",
       "    .dataframe tbody tr th {\n",
       "        vertical-align: top;\n",
       "    }\n",
       "\n",
       "    .dataframe thead th {\n",
       "        text-align: right;\n",
       "    }\n",
       "</style>\n",
       "<table border=\"1\" class=\"dataframe\">\n",
       "  <thead>\n",
       "    <tr style=\"text-align: right;\">\n",
       "      <th></th>\n",
       "      <th>sub_string</th>\n",
       "      <th>count</th>\n",
       "    </tr>\n",
       "  </thead>\n",
       "  <tbody>\n",
       "    <tr>\n",
       "      <th>60</th>\n",
       "      <td>WDTAG</td>\n",
       "      <td>3</td>\n",
       "    </tr>\n",
       "    <tr>\n",
       "      <th>61</th>\n",
       "      <td>DTAGQ</td>\n",
       "      <td>3</td>\n",
       "    </tr>\n",
       "  </tbody>\n",
       "</table>\n",
       "</div>"
      ],
      "text/plain": [
       "   sub_string  count\n",
       "60      WDTAG      3\n",
       "61      DTAGQ      3"
      ]
     },
     "execution_count": 14,
     "metadata": {},
     "output_type": "execute_result"
    }
   ],
   "source": [
    "counts.sort_values(by='count', ascending = False)[:2]"
   ]
  },
  {
   "cell_type": "markdown",
   "metadata": {},
   "source": [
    "___"
   ]
  },
  {
   "cell_type": "markdown",
   "metadata": {},
   "source": [
    "### 4) Code from Kernel.py"
   ]
  },
  {
   "cell_type": "markdown",
   "metadata": {},
   "source": [
    "```python\n",
    "\n",
    "'''\n",
    "This file contains all methods/class working with string kernels.\n",
    "'''\n",
    "import numpy as np\n",
    "import pandas as pd\n",
    "\n",
    "def loadData(fp):\n",
    "    newfile = open(fp, 'r')\n",
    "    newfile.seek(0)\n",
    "    raw_strings = newfile.read().split(\"\\n\")[:-1]\n",
    "    return np.array([np.array(entry.split(\" \"), dtype=\"str\") for entry in raw_strings])\n",
    "\n",
    "'''\n",
    "Calculates common substring of length p in both s and t. If a string occurs a times in s\n",
    "and b times in t, then increment total count by a * b.\n",
    "@param p is the length of substring\n",
    "@param s is the first string.\n",
    "@param t is the econd string.\n",
    "'''\n",
    "def kernel(s, t, p):\n",
    "    product = 0\n",
    "    # Maps every substring to a number within s and t of length p\n",
    "    map_s = generate_map(s, p)\n",
    "    map_t = generate_map(t, p)\n",
    "    # Iterate through one of them\n",
    "    for key_s in [*map_s]:\n",
    "        if key_s in [*map_t]:\n",
    "            product += map_s[key_s] * map_t[key_s]\n",
    "    return product\n",
    "\n",
    "def generate_map(string, p):\n",
    "    uniques = {}\n",
    "    for i in range(len(string) - p + 1):\n",
    "        if string[i:i+p] not in uniques.keys():\n",
    "            uniques[string[i:i+p]] = 1\n",
    "        else:\n",
    "            uniques[string[i:i+p]] += 1\n",
    "    return uniques\n",
    "\n",
    "def kernel2(s, t, p):\n",
    "    common = 0\n",
    "    # Record uniques\n",
    "    unique_s = []\n",
    "    unique_t = []\n",
    "    for i in range(len(s) - p + 1):\n",
    "        unique_s.append(s[i:i+p])\n",
    "    for j in range(len(t) - p + 1):\n",
    "        unique_t.append(t[i:i+p])\n",
    "    unique_s = set(unique_s)\n",
    "    unique_t = set(unique_t)\n",
    "    for key_s in unique_s:\n",
    "        if key_s in unique_t:\n",
    "            common += 1\n",
    "    return common\n",
    "\n",
    "\n",
    "class Perceptron():\n",
    "    # Instead of w, keep track of index of x, y that made errors\n",
    "    delta = []\n",
    "    # store p as a instance\n",
    "    p = -1\n",
    "    \n",
    "    def fit(self, training_data, p):\n",
    "        self.p = p\n",
    "        # One pass only\n",
    "        count = 0\n",
    "        switch = True\n",
    "        for i in range(len(training_data)):\n",
    "            # progress report\n",
    "            if count > len(training_data)/2 and switch:\n",
    "                print(\"Half way done\")\n",
    "                switch = False\n",
    "            count += 1\n",
    "            data = training_data[i]\n",
    "            # Edge case:\n",
    "            if len(self.delta) == 0:\n",
    "                self.delta.append(data)\n",
    "                continue\n",
    "            # Update case:\n",
    "            if data[1] * self.w_dot_phi(data) <= 0:\n",
    "                self.delta.append(data)\n",
    "        print(\"All done\")\n",
    "            \n",
    "    '''\n",
    "    Helper method which calculates <w_t, phi(x)>\n",
    "    '''\n",
    "    def w_dot_phi(self, x):\n",
    "        # Iterate through all x in list, compute sum of kernals\n",
    "        dot_product = 0\n",
    "        for error_data in self.delta:\n",
    "            dot_product += error_data[1] * kernel(error_data[0], x[0], self.p)\n",
    "        return dot_product\n",
    "    \n",
    "    '''\n",
    "    Functions for Prediction/Testing\n",
    "    '''\n",
    "    # Calculate Error\n",
    "    def error(self, testing_data):\n",
    "        # Depending on what method is, calculate predictions\n",
    "        predictions = self.predict_pass(testing_data)\n",
    "        return np.mean(predictions != testing_data[:,1])\n",
    "    \n",
    "    def predict_pass_one(self, a_test_data):\n",
    "        if self.w_dot_phi(a_test_data) >= 0:\n",
    "            return 1\n",
    "        else:\n",
    "            return -1\n",
    "    \n",
    "    def predict_pass(self, testing_data):\n",
    "        return np.apply_along_axis(self.predict_pass_one, 1, testing_data[:,:-1])\n",
    "\n",
    "```"
   ]
  }
 ],
 "metadata": {
  "kernelspec": {
   "display_name": "Python 3",
   "language": "python",
   "name": "python3"
  },
  "language_info": {
   "codemirror_mode": {
    "name": "ipython",
    "version": 3
   },
   "file_extension": ".py",
   "mimetype": "text/x-python",
   "name": "python",
   "nbconvert_exporter": "python",
   "pygments_lexer": "ipython3",
   "version": "3.6.7"
  }
 },
 "nbformat": 4,
 "nbformat_minor": 2
}
